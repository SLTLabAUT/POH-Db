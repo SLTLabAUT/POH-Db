{
 "cells": [
  {
   "cell_type": "code",
   "execution_count": 1,
   "metadata": {},
   "outputs": [],
   "source": [
    "import xml.etree.ElementTree as et\n",
    "import os\n",
    "import pandas as pd\n",
    "import numpy as np"
   ]
  },
  {
   "cell_type": "markdown",
   "metadata": {},
   "source": [
    "# Load Data"
   ]
  },
  {
   "cell_type": "code",
   "execution_count": 2,
   "metadata": {},
   "outputs": [
    {
     "data": {
      "text/html": [
       "<div>\n",
       "<style scoped>\n",
       "    .dataframe tbody tr th:only-of-type {\n",
       "        vertical-align: middle;\n",
       "    }\n",
       "\n",
       "    .dataframe tbody tr th {\n",
       "        vertical-align: top;\n",
       "    }\n",
       "\n",
       "    .dataframe thead th {\n",
       "        text-align: right;\n",
       "    }\n",
       "</style>\n",
       "<table border=\"1\" class=\"dataframe\">\n",
       "  <thead>\n",
       "    <tr style=\"text-align: right;\">\n",
       "      <th></th>\n",
       "      <th>handedness</th>\n",
       "      <th>sex</th>\n",
       "      <th>education</th>\n",
       "      <th>birth_year</th>\n",
       "      <th>word_count</th>\n",
       "    </tr>\n",
       "  </thead>\n",
       "  <tbody>\n",
       "    <tr>\n",
       "      <th>00136a23-d38a-4e79-847f-e6ef91ced567</th>\n",
       "      <td>Right</td>\n",
       "      <td>Woman</td>\n",
       "      <td>Master</td>\n",
       "      <td>1374</td>\n",
       "      <td>0</td>\n",
       "    </tr>\n",
       "    <tr>\n",
       "      <th>002c2b0b-afc0-4491-afbc-08bea8fb837f</th>\n",
       "      <td>Right</td>\n",
       "      <td>Woman</td>\n",
       "      <td>Doctoral</td>\n",
       "      <td>1367</td>\n",
       "      <td>0</td>\n",
       "    </tr>\n",
       "    <tr>\n",
       "      <th>00767657-9969-4781-b4f9-6430ee1a8077</th>\n",
       "      <td>Right</td>\n",
       "      <td>Man</td>\n",
       "      <td>Master</td>\n",
       "      <td>1376</td>\n",
       "      <td>0</td>\n",
       "    </tr>\n",
       "    <tr>\n",
       "      <th>007cfec5-01f1-40c8-8c99-ff5fd4076cd8</th>\n",
       "      <td>Right</td>\n",
       "      <td>Man</td>\n",
       "      <td>Bachelor</td>\n",
       "      <td>1380</td>\n",
       "      <td>0</td>\n",
       "    </tr>\n",
       "    <tr>\n",
       "      <th>00806490-2371-478c-a820-76bdb049075a</th>\n",
       "      <td>Right</td>\n",
       "      <td>Man</td>\n",
       "      <td>UpperSecondary</td>\n",
       "      <td>1380</td>\n",
       "      <td>0</td>\n",
       "    </tr>\n",
       "    <tr>\n",
       "      <th>...</th>\n",
       "      <td>...</td>\n",
       "      <td>...</td>\n",
       "      <td>...</td>\n",
       "      <td>...</td>\n",
       "      <td>...</td>\n",
       "    </tr>\n",
       "    <tr>\n",
       "      <th>fe35f6fe-4003-4f7b-8b8b-9eda43251ca3</th>\n",
       "      <td>Right</td>\n",
       "      <td>Woman</td>\n",
       "      <td>Bachelor</td>\n",
       "      <td>1379</td>\n",
       "      <td>0</td>\n",
       "    </tr>\n",
       "    <tr>\n",
       "      <th>fe5cace8-0e34-4079-8276-129a4aa02c9d</th>\n",
       "      <td>Right</td>\n",
       "      <td>Man</td>\n",
       "      <td>Bachelor</td>\n",
       "      <td>1370</td>\n",
       "      <td>0</td>\n",
       "    </tr>\n",
       "    <tr>\n",
       "      <th>fe8be55e-b3e5-437a-9e3a-1cf8f626af6a</th>\n",
       "      <td>Left</td>\n",
       "      <td>Man</td>\n",
       "      <td>Bachelor</td>\n",
       "      <td>1376</td>\n",
       "      <td>0</td>\n",
       "    </tr>\n",
       "    <tr>\n",
       "      <th>ff694413-bcc8-4657-afc3-3d07e3bc800e</th>\n",
       "      <td>Right</td>\n",
       "      <td>Man</td>\n",
       "      <td>Bachelor</td>\n",
       "      <td>1378</td>\n",
       "      <td>0</td>\n",
       "    </tr>\n",
       "    <tr>\n",
       "      <th>ffc085af-d0d6-4985-a130-1ed4704d771f</th>\n",
       "      <td>Right</td>\n",
       "      <td>Woman</td>\n",
       "      <td>Bachelor</td>\n",
       "      <td>1380</td>\n",
       "      <td>0</td>\n",
       "    </tr>\n",
       "  </tbody>\n",
       "</table>\n",
       "<p>868 rows × 5 columns</p>\n",
       "</div>"
      ],
      "text/plain": [
       "                                     handedness    sex       education   \n",
       "00136a23-d38a-4e79-847f-e6ef91ced567      Right  Woman          Master  \\\n",
       "002c2b0b-afc0-4491-afbc-08bea8fb837f      Right  Woman        Doctoral   \n",
       "00767657-9969-4781-b4f9-6430ee1a8077      Right    Man          Master   \n",
       "007cfec5-01f1-40c8-8c99-ff5fd4076cd8      Right    Man        Bachelor   \n",
       "00806490-2371-478c-a820-76bdb049075a      Right    Man  UpperSecondary   \n",
       "...                                         ...    ...             ...   \n",
       "fe35f6fe-4003-4f7b-8b8b-9eda43251ca3      Right  Woman        Bachelor   \n",
       "fe5cace8-0e34-4079-8276-129a4aa02c9d      Right    Man        Bachelor   \n",
       "fe8be55e-b3e5-437a-9e3a-1cf8f626af6a       Left    Man        Bachelor   \n",
       "ff694413-bcc8-4657-afc3-3d07e3bc800e      Right    Man        Bachelor   \n",
       "ffc085af-d0d6-4985-a130-1ed4704d771f      Right  Woman        Bachelor   \n",
       "\n",
       "                                     birth_year  word_count  \n",
       "00136a23-d38a-4e79-847f-e6ef91ced567       1374           0  \n",
       "002c2b0b-afc0-4491-afbc-08bea8fb837f       1367           0  \n",
       "00767657-9969-4781-b4f9-6430ee1a8077       1376           0  \n",
       "007cfec5-01f1-40c8-8c99-ff5fd4076cd8       1380           0  \n",
       "00806490-2371-478c-a820-76bdb049075a       1380           0  \n",
       "...                                         ...         ...  \n",
       "fe35f6fe-4003-4f7b-8b8b-9eda43251ca3       1379           0  \n",
       "fe5cace8-0e34-4079-8276-129a4aa02c9d       1370           0  \n",
       "fe8be55e-b3e5-437a-9e3a-1cf8f626af6a       1376           0  \n",
       "ff694413-bcc8-4657-afc3-3d07e3bc800e       1378           0  \n",
       "ffc085af-d0d6-4985-a130-1ed4704d771f       1380           0  \n",
       "\n",
       "[868 rows x 5 columns]"
      ]
     },
     "execution_count": 2,
     "metadata": {},
     "output_type": "execute_result"
    }
   ],
   "source": [
    "writers_path = \"writers.pkl.compressed\"\n",
    "if os.path.exists(writers_path):\n",
    "    writers = pd.read_pickle(writers_path, compression=\"gzip\")\n",
    "else:\n",
    "    writers = pd.DataFrame(\n",
    "        {\n",
    "            \"handedness\": pd.Series(dtype=object),\n",
    "            \"sex\": pd.Series(dtype=object),\n",
    "            \"education\": pd.Series(dtype=object),\n",
    "            \"birth_year\": pd.Series(dtype=\"int32\"),\n",
    "            \"word_count\": pd.Series(dtype=\"int32\"),\n",
    "        }\n",
    "    )\n",
    "    for root, dirs, files in os.walk(\"Writers/\"):\n",
    "        for filename in files:\n",
    "            file_path = os.path.join(root, filename)\n",
    "            xml = et.parse(file_path).getroot()\n",
    "\n",
    "            id = filename[:-4]\n",
    "            handedness = xml.find(\"handedness\").text\n",
    "            sex = xml.find(\"sex\")\n",
    "            if sex is not None:\n",
    "                sex = sex.text\n",
    "            education = xml.find(\"education\")\n",
    "            if education is not None:\n",
    "                education = education.text\n",
    "            birth_year = xml.find(\"birthYear\")\n",
    "            if birth_year is not None:\n",
    "                birth_year = int(birth_year.text)\n",
    "\n",
    "            writers.loc[id] = {\n",
    "                \"handedness\": handedness,\n",
    "                \"sex\": sex,\n",
    "                \"education\": education,\n",
    "                \"birth_year\": birth_year,\n",
    "                \"word_count\": 0,\n",
    "            }\n",
    "    writers.to_pickle(writers_path, compression=\"gzip\")\n",
    "writers\n"
   ]
  },
  {
   "cell_type": "code",
   "execution_count": 3,
   "metadata": {},
   "outputs": [
    {
     "data": {
      "text/html": [
       "<div>\n",
       "<style scoped>\n",
       "    .dataframe tbody tr th:only-of-type {\n",
       "        vertical-align: middle;\n",
       "    }\n",
       "\n",
       "    .dataframe tbody tr th {\n",
       "        vertical-align: top;\n",
       "    }\n",
       "\n",
       "    .dataframe thead th {\n",
       "        text-align: right;\n",
       "    }\n",
       "</style>\n",
       "<table border=\"1\" class=\"dataframe\">\n",
       "  <thead>\n",
       "    <tr style=\"text-align: right;\">\n",
       "      <th></th>\n",
       "      <th>word_count</th>\n",
       "    </tr>\n",
       "  </thead>\n",
       "  <tbody>\n",
       "    <tr>\n",
       "      <th>250046</th>\n",
       "      <td>14</td>\n",
       "    </tr>\n",
       "    <tr>\n",
       "      <th>250047</th>\n",
       "      <td>14</td>\n",
       "    </tr>\n",
       "    <tr>\n",
       "      <th>250048</th>\n",
       "      <td>14</td>\n",
       "    </tr>\n",
       "    <tr>\n",
       "      <th>250049</th>\n",
       "      <td>14</td>\n",
       "    </tr>\n",
       "    <tr>\n",
       "      <th>250050</th>\n",
       "      <td>14</td>\n",
       "    </tr>\n",
       "    <tr>\n",
       "      <th>...</th>\n",
       "      <td>...</td>\n",
       "    </tr>\n",
       "    <tr>\n",
       "      <th>230041</th>\n",
       "      <td>7</td>\n",
       "    </tr>\n",
       "    <tr>\n",
       "      <th>230042</th>\n",
       "      <td>7</td>\n",
       "    </tr>\n",
       "    <tr>\n",
       "      <th>230043</th>\n",
       "      <td>7</td>\n",
       "    </tr>\n",
       "    <tr>\n",
       "      <th>230044</th>\n",
       "      <td>9</td>\n",
       "    </tr>\n",
       "    <tr>\n",
       "      <th>230045</th>\n",
       "      <td>9</td>\n",
       "    </tr>\n",
       "  </tbody>\n",
       "</table>\n",
       "<p>250295 rows × 1 columns</p>\n",
       "</div>"
      ],
      "text/plain": [
       "        word_count\n",
       "250046          14\n",
       "250047          14\n",
       "250048          14\n",
       "250049          14\n",
       "250050          14\n",
       "...            ...\n",
       "230041           7\n",
       "230042           7\n",
       "230043           7\n",
       "230044           9\n",
       "230045           9\n",
       "\n",
       "[250295 rows x 1 columns]"
      ]
     },
     "execution_count": 3,
     "metadata": {},
     "output_type": "execute_result"
    }
   ],
   "source": [
    "ground_truths_path = \"ground_truths.pkl.compressed\"\n",
    "if os.path.exists(ground_truths_path):\n",
    "    ground_truths = pd.read_pickle(ground_truths_path, compression=\"gzip\")\n",
    "else:\n",
    "    ground_truths = pd.DataFrame(\n",
    "        {\n",
    "            \"word_count\": pd.Series(dtype=\"int32\"),\n",
    "        }\n",
    "    )\n",
    "    for root, dirs, files in os.walk(\"GroundTruths/\"):\n",
    "        for filename in files:\n",
    "            file_path = os.path.join(root, filename)\n",
    "            xml = et.parse(file_path).getroot()\n",
    "\n",
    "            for text in xml.findall(\"text\"):\n",
    "                id = int(text.attrib[\"id\"])\n",
    "                if xml.attrib[\"type\"] == \"Text\":\n",
    "                    word_count = len(text.find(\"content\").text.split(\" \"))\n",
    "                else:\n",
    "                    word_count = len(text.findall(\".//line\"))\n",
    "\n",
    "                ground_truths.loc[id] = {\n",
    "                    \"word_count\": word_count,\n",
    "                }\n",
    "    ground_truths.to_pickle(ground_truths_path, compression=\"gzip\")\n",
    "ground_truths\n"
   ]
  },
  {
   "cell_type": "code",
   "execution_count": 10,
   "metadata": {},
   "outputs": [
    {
     "data": {
      "text/html": [
       "<div>\n",
       "<style scoped>\n",
       "    .dataframe tbody tr th:only-of-type {\n",
       "        vertical-align: middle;\n",
       "    }\n",
       "\n",
       "    .dataframe tbody tr th {\n",
       "        vertical-align: top;\n",
       "    }\n",
       "\n",
       "    .dataframe thead th {\n",
       "        text-align: right;\n",
       "    }\n",
       "</style>\n",
       "<table border=\"1\" class=\"dataframe\">\n",
       "  <thead>\n",
       "    <tr style=\"text-align: right;\">\n",
       "      <th></th>\n",
       "      <th>writer_id</th>\n",
       "      <th>input</th>\n",
       "      <th>type</th>\n",
       "      <th>hand</th>\n",
       "      <th>truth_id</th>\n",
       "    </tr>\n",
       "  </thead>\n",
       "  <tbody>\n",
       "    <tr>\n",
       "      <th>12088</th>\n",
       "      <td>e6b003ad-19a1-4422-81b6-c9973f542c12</td>\n",
       "      <td>Pen</td>\n",
       "      <td>NumberGroup</td>\n",
       "      <td>Right</td>\n",
       "      <td>250058</td>\n",
       "    </tr>\n",
       "    <tr>\n",
       "      <th>12093</th>\n",
       "      <td>92bacc45-ecd3-4cb5-9f16-9b8c176cc3a2</td>\n",
       "      <td>Mouse</td>\n",
       "      <td>NumberGroup</td>\n",
       "      <td>Right</td>\n",
       "      <td>250046</td>\n",
       "    </tr>\n",
       "    <tr>\n",
       "      <th>12101</th>\n",
       "      <td>c0482d8c-48d2-483b-9a45-6ef156a8033b</td>\n",
       "      <td>Mouse</td>\n",
       "      <td>NumberGroup</td>\n",
       "      <td>Right</td>\n",
       "      <td>250090</td>\n",
       "    </tr>\n",
       "    <tr>\n",
       "      <th>12102</th>\n",
       "      <td>c0482d8c-48d2-483b-9a45-6ef156a8033b</td>\n",
       "      <td>Mouse</td>\n",
       "      <td>NumberGroup</td>\n",
       "      <td>Right</td>\n",
       "      <td>250091</td>\n",
       "    </tr>\n",
       "    <tr>\n",
       "      <th>12340</th>\n",
       "      <td>a314eb9f-c743-432a-8695-c4901c7fe35a</td>\n",
       "      <td>Touch</td>\n",
       "      <td>NumberGroup</td>\n",
       "      <td>Right</td>\n",
       "      <td>250058</td>\n",
       "    </tr>\n",
       "    <tr>\n",
       "      <th>...</th>\n",
       "      <td>...</td>\n",
       "      <td>...</td>\n",
       "      <td>...</td>\n",
       "      <td>...</td>\n",
       "      <td>...</td>\n",
       "    </tr>\n",
       "    <tr>\n",
       "      <th>16513</th>\n",
       "      <td>b2caf855-9842-453f-b609-ee9e99bb41a0</td>\n",
       "      <td>Touch</td>\n",
       "      <td>WordGroup3</td>\n",
       "      <td>Right</td>\n",
       "      <td>210256</td>\n",
       "    </tr>\n",
       "    <tr>\n",
       "      <th>16514</th>\n",
       "      <td>b2caf855-9842-453f-b609-ee9e99bb41a0</td>\n",
       "      <td>Touch</td>\n",
       "      <td>WordGroup3</td>\n",
       "      <td>Right</td>\n",
       "      <td>210257</td>\n",
       "    </tr>\n",
       "    <tr>\n",
       "      <th>16515</th>\n",
       "      <td>b2caf855-9842-453f-b609-ee9e99bb41a0</td>\n",
       "      <td>Touch</td>\n",
       "      <td>WordGroup3</td>\n",
       "      <td>Right</td>\n",
       "      <td>210258</td>\n",
       "    </tr>\n",
       "    <tr>\n",
       "      <th>16516</th>\n",
       "      <td>b2caf855-9842-453f-b609-ee9e99bb41a0</td>\n",
       "      <td>Touch</td>\n",
       "      <td>WordGroup3</td>\n",
       "      <td>Right</td>\n",
       "      <td>210259</td>\n",
       "    </tr>\n",
       "    <tr>\n",
       "      <th>16517</th>\n",
       "      <td>b2caf855-9842-453f-b609-ee9e99bb41a0</td>\n",
       "      <td>Touch</td>\n",
       "      <td>WordGroup3</td>\n",
       "      <td>Right</td>\n",
       "      <td>210260</td>\n",
       "    </tr>\n",
       "  </tbody>\n",
       "</table>\n",
       "<p>9308 rows × 5 columns</p>\n",
       "</div>"
      ],
      "text/plain": [
       "                                  writer_id  input         type   hand   \n",
       "12088  e6b003ad-19a1-4422-81b6-c9973f542c12    Pen  NumberGroup  Right  \\\n",
       "12093  92bacc45-ecd3-4cb5-9f16-9b8c176cc3a2  Mouse  NumberGroup  Right   \n",
       "12101  c0482d8c-48d2-483b-9a45-6ef156a8033b  Mouse  NumberGroup  Right   \n",
       "12102  c0482d8c-48d2-483b-9a45-6ef156a8033b  Mouse  NumberGroup  Right   \n",
       "12340  a314eb9f-c743-432a-8695-c4901c7fe35a  Touch  NumberGroup  Right   \n",
       "...                                     ...    ...          ...    ...   \n",
       "16513  b2caf855-9842-453f-b609-ee9e99bb41a0  Touch   WordGroup3  Right   \n",
       "16514  b2caf855-9842-453f-b609-ee9e99bb41a0  Touch   WordGroup3  Right   \n",
       "16515  b2caf855-9842-453f-b609-ee9e99bb41a0  Touch   WordGroup3  Right   \n",
       "16516  b2caf855-9842-453f-b609-ee9e99bb41a0  Touch   WordGroup3  Right   \n",
       "16517  b2caf855-9842-453f-b609-ee9e99bb41a0  Touch   WordGroup3  Right   \n",
       "\n",
       "       truth_id  \n",
       "12088    250058  \n",
       "12093    250046  \n",
       "12101    250090  \n",
       "12102    250091  \n",
       "12340    250058  \n",
       "...         ...  \n",
       "16513    210256  \n",
       "16514    210257  \n",
       "16515    210258  \n",
       "16516    210259  \n",
       "16517    210260  \n",
       "\n",
       "[9308 rows x 5 columns]"
      ]
     },
     "execution_count": 10,
     "metadata": {},
     "output_type": "execute_result"
    }
   ],
   "source": [
    "xml_namespaces = {\"inkml\": \"http://www.w3.org/2003/InkML\"}\n",
    "writepads_path = \"writepads.pkl.compressed\"\n",
    "if os.path.exists(writepads_path):\n",
    "    writepads = pd.read_pickle(writepads_path, compression=\"gzip\")\n",
    "else:\n",
    "    writepads = pd.DataFrame(\n",
    "        {\n",
    "            \"writer_id\": pd.Series(dtype=object),\n",
    "            \"input\": pd.Series(dtype=object),\n",
    "            \"type\": pd.Series(dtype=object),\n",
    "            \"hand\": pd.Series(dtype=object),\n",
    "            \"truth_id\": pd.Series(dtype=\"int32\"),\n",
    "        }\n",
    "    )\n",
    "    for root, dirs, files in os.walk(\"Writepads/\"):\n",
    "        if os.path.basename(root) == \"Sign\":\n",
    "            continue\n",
    "        for filename in files:\n",
    "            file_path = os.path.join(root, filename)\n",
    "            ink = et.parse(file_path).getroot()\n",
    "\n",
    "            id = int(filename[:-6])\n",
    "            writer_id = ink.find(\"inkml:annotationXML/writerId\", xml_namespaces).text[9:]\n",
    "            input = ink.find(\"inkml:annotationXML/input\", xml_namespaces).text\n",
    "            type = ink.find(\"inkml:annotationXML/type\", xml_namespaces).text\n",
    "            hand = ink.find(\"inkml:annotationXML/hand\", xml_namespaces).text\n",
    "            truth_id = int(ink.find(\"inkml:annotationXML/truthId\", xml_namespaces).text)\n",
    "\n",
    "            writers.loc[writer_id, \"word_count\"] += ground_truths.loc[truth_id, \"word_count\"]\n",
    "\n",
    "            writepads.loc[id] = {\n",
    "                \"writer_id\": writer_id,\n",
    "                \"input\": input,\n",
    "                \"type\": type,\n",
    "                \"hand\": hand,\n",
    "                \"truth_id\": truth_id,\n",
    "            }\n",
    "    writers.to_pickle(writers_path, compression=\"gzip\")\n",
    "    writepads.to_pickle(writepads_path, compression=\"gzip\")\n",
    "writepads\n"
   ]
  },
  {
   "cell_type": "markdown",
   "metadata": {},
   "source": [
    "# Utils"
   ]
  },
  {
   "cell_type": "code",
   "execution_count": 11,
   "metadata": {},
   "outputs": [],
   "source": [
    "def calculate_value_counts(data, labels):\n",
    "    value_counts = data.value_counts(dropna=False).sort_index().reset_index(drop=True)\n",
    "    value_counts *= 100 / np.sum(value_counts)\n",
    "    value_counts = value_counts.round().astype(int)\n",
    "    value_index = value_counts.index\n",
    "    result = ''\n",
    "    for i in range(len(labels)):\n",
    "        value = 0\n",
    "        if i in value_index:\n",
    "            value = value_counts.loc[i]\n",
    "        result += f'{labels[i]}: {value}%\\n'\n",
    "    return result[:-1]\n",
    "\n",
    "def calculate_value_counts_direct(value_counts, labels):\n",
    "    value_counts *= 100 / np.sum(value_counts)\n",
    "    value_counts = value_counts.round().astype(int)\n",
    "    value_index = value_counts.index\n",
    "    result = ''\n",
    "    for i in range(len(labels)):\n",
    "        value = 0\n",
    "        if i in value_index:\n",
    "            value = value_counts.loc[i]\n",
    "        result += f'{labels[i]}: {value}%\\n'\n",
    "    return result[:-1]"
   ]
  },
  {
   "cell_type": "markdown",
   "metadata": {},
   "source": [
    "# Stats"
   ]
  },
  {
   "cell_type": "markdown",
   "metadata": {},
   "source": [
    "### General Counts"
   ]
  },
  {
   "cell_type": "code",
   "execution_count": 12,
   "metadata": {},
   "outputs": [
    {
     "name": "stdout",
     "output_type": "stream",
     "text": [
      "Total Word Count: 113682\n",
      "Total Writer Count: 372\n"
     ]
    }
   ],
   "source": [
    "print(f\"Total Word Count: {writers['word_count'].sum()}\")\n",
    "valid_writers = writers[writers[\"word_count\"] > 0]\n",
    "print(f\"Total Writer Count: {len(valid_writers)}\")"
   ]
  },
  {
   "cell_type": "markdown",
   "metadata": {},
   "source": [
    "### Type"
   ]
  },
  {
   "cell_type": "code",
   "execution_count": 15,
   "metadata": {},
   "outputs": [
    {
     "name": "stdout",
     "output_type": "stream",
     "text": [
      "Text: 54%\n",
      "WordGroup: 36%\n",
      "WordGroup2: 2%\n",
      "WordGroup3: 6%\n",
      "NumberGroup: 2%\n"
     ]
    }
   ],
   "source": [
    "labels = ['Text', 'WordGroup', 'WordGroup2', 'WordGroup3', 'NumberGroup']\n",
    "counts = [0, 0, 0, 0, 0]\n",
    "for w in writepads.values:\n",
    "    input = w[2]\n",
    "    for i in range(len(labels)):\n",
    "        if input == labels[i]:\n",
    "            counts[i] += ground_truths.loc[w[4], \"word_count\"]\n",
    "print(calculate_value_counts_direct(pd.Series(counts), labels))"
   ]
  },
  {
   "cell_type": "markdown",
   "metadata": {},
   "source": [
    "### Input"
   ]
  },
  {
   "cell_type": "code",
   "execution_count": 16,
   "metadata": {},
   "outputs": [
    {
     "name": "stdout",
     "output_type": "stream",
     "text": [
      "Mouse: 17%\n",
      "Pen: 25%\n",
      "Touch: 40%\n",
      "Touchpad: 2%\n",
      "TouchPen: 16%\n"
     ]
    }
   ],
   "source": [
    "labels = ['Mouse', 'Pen', 'Touch', 'Touchpad', 'TouchPen']\n",
    "counts = [0, 0, 0, 0, 0]\n",
    "for w in writepads.values:\n",
    "    input = w[1]\n",
    "    for i in range(len(labels)):\n",
    "        if input == labels[i]:\n",
    "            counts[i] += ground_truths.loc[w[4], \"word_count\"]\n",
    "print(calculate_value_counts_direct(pd.Series(counts), labels))"
   ]
  },
  {
   "cell_type": "markdown",
   "metadata": {},
   "source": [
    "### Hand"
   ]
  },
  {
   "cell_type": "code",
   "execution_count": 17,
   "metadata": {},
   "outputs": [
    {
     "name": "stdout",
     "output_type": "stream",
     "text": [
      "Left: 12%\n",
      "Right: 88%\n"
     ]
    }
   ],
   "source": [
    "labels = ['Left', 'Right']\n",
    "counts = [0, 0]\n",
    "for w in writepads.values:\n",
    "    input = w[3]\n",
    "    for i in range(len(labels)):\n",
    "        if input == labels[i]:\n",
    "            counts[i] += ground_truths.loc[w[4], \"word_count\"]\n",
    "print(calculate_value_counts_direct(pd.Series(counts), labels))"
   ]
  },
  {
   "cell_type": "markdown",
   "metadata": {},
   "source": [
    "### Handedness"
   ]
  },
  {
   "cell_type": "code",
   "execution_count": 18,
   "metadata": {},
   "outputs": [
    {
     "name": "stdout",
     "output_type": "stream",
     "text": [
      "Both: 1%\n",
      "Left: 14%\n",
      "Right: 85%\n"
     ]
    }
   ],
   "source": [
    "labels = sorted(['Both', 'Left', 'Right'])\n",
    "print(calculate_value_counts(valid_writers[\"handedness\"], labels))"
   ]
  },
  {
   "cell_type": "markdown",
   "metadata": {},
   "source": [
    "### Sex"
   ]
  },
  {
   "cell_type": "code",
   "execution_count": 19,
   "metadata": {},
   "outputs": [
    {
     "name": "stdout",
     "output_type": "stream",
     "text": [
      "Man: 63%\n",
      "Woman: 35%\n",
      "Unknown: 2%\n"
     ]
    }
   ],
   "source": [
    "labels = sorted(['Man', 'Woman']) + ['Unknown']\n",
    "print(calculate_value_counts(valid_writers[\"sex\"], labels))"
   ]
  },
  {
   "cell_type": "markdown",
   "metadata": {},
   "source": [
    "### Education"
   ]
  },
  {
   "cell_type": "code",
   "execution_count": 20,
   "metadata": {},
   "outputs": [
    {
     "name": "stdout",
     "output_type": "stream",
     "text": [
      "Bachelor: 44%\n",
      "Doctoral: 4%\n",
      "LowerSecondary: 3%\n",
      "Master: 27%\n",
      "None: 1%\n",
      "Primary: 1%\n",
      "ShortCycleTertiary: 5%\n",
      "UpperSecondary: 14%\n",
      "Unknown: 2%\n"
     ]
    }
   ],
   "source": [
    "labels = (\n",
    "    sorted(\n",
    "        [\n",
    "            \"Bachelor\",\n",
    "            \"Doctoral\",\n",
    "            \"LowerSecondary\",\n",
    "            \"Master\",\n",
    "            \"None\",\n",
    "            \"Primary\",\n",
    "            \"ShortCycleTertiary\",\n",
    "            \"UpperSecondary\",\n",
    "        ]\n",
    "    )\n",
    "    + [\"Unknown\"]\n",
    ")\n",
    "print(calculate_value_counts(valid_writers[\"education\"], labels))\n"
   ]
  },
  {
   "cell_type": "markdown",
   "metadata": {},
   "source": [
    "### Word - Writer"
   ]
  },
  {
   "cell_type": "code",
   "execution_count": 21,
   "metadata": {},
   "outputs": [
    {
     "name": "stdout",
     "output_type": "stream",
     "text": [
      "Normal\n",
      "word, writer\n",
      "0, 210\n",
      "150, 34\n",
      "300, 69\n",
      "600, 47\n",
      "1200, 9\n",
      "2400+, 3\n",
      "\n",
      "Aggregated\n",
      "word, writer\n",
      "0, 372\n",
      "150, 162\n",
      "300, 128\n",
      "600, 59\n",
      "1200, 12\n",
      "2400+, 3\n"
     ]
    }
   ],
   "source": [
    "bins = [0, 150, 300, 600, 1200, 2400]\n",
    "hist = np.histogram(valid_writers[\"word_count\"], bins=bins)\n",
    "user = np.append(hist[0], len(valid_writers[valid_writers[\"word_count\"] >= 2400]))\n",
    "hist = (user, bins)\n",
    "result = 'word, writer\\n'\n",
    "labels = []\n",
    "for i in range(len(user)):\n",
    "    if bins[i] == 2400:\n",
    "        labels.append('2400+')\n",
    "    else:\n",
    "        labels.append(f'{bins[i]}')\n",
    "    result += f'{labels[i]}, '\n",
    "    result += f'{user[i]:.0f}\\n'\n",
    "print('Normal')\n",
    "print(result[:-1])\n",
    "\n",
    "sum = 0\n",
    "for i in reversed(range(len(user))):\n",
    "    sum += user[i]\n",
    "    user[i] = sum\n",
    "result = 'word, writer\\n'\n",
    "labels = []\n",
    "for i in range(len(user)):\n",
    "    if bins[i] == 2400:\n",
    "        labels.append('2400+')\n",
    "    else:\n",
    "        labels.append(f'{bins[i]}')\n",
    "    result += f'{labels[i]}, '\n",
    "    result += f'{user[i]:.0f}\\n'\n",
    "print()\n",
    "print('Aggregated')\n",
    "print(result[:-1])"
   ]
  },
  {
   "cell_type": "markdown",
   "metadata": {},
   "source": [
    "### Age - Writer"
   ]
  },
  {
   "cell_type": "code",
   "execution_count": 22,
   "metadata": {},
   "outputs": [
    {
     "name": "stdout",
     "output_type": "stream",
     "text": [
      "age, writer\n",
      "0, 0\n",
      "10, 49\n",
      "20, 216\n",
      "30, 64\n",
      "40, 24\n",
      "50, 2\n",
      "60, 1\n",
      "70, 0\n",
      "80, 1\n",
      "90, 0\n",
      "100+, 6\n",
      "\n"
     ]
    }
   ],
   "source": [
    "year_users = 1401 - valid_writers['birth_year'][pd.notna(valid_writers['birth_year'])]\n",
    "bins = [0, 10, 20, 30, 40, 50, 60, 70, 80, 90, 100]\n",
    "hist = np.histogram(year_users, bins=bins)\n",
    "user = np.append(hist[0], len(year_users[year_users >= 100]))\n",
    "hist = (user, bins)\n",
    "result = 'age, writer\\n'\n",
    "labels = []\n",
    "for i in range(len(hist[0])):\n",
    "    if bins[i] == 100:\n",
    "        labels.append('100+')\n",
    "    else:\n",
    "        labels.append(f'{bins[i]}')\n",
    "    result += f'{labels[i]}, '\n",
    "    result += f'{user[i]}\\n'\n",
    "print(result)"
   ]
  }
 ],
 "metadata": {
  "interpreter": {
   "hash": "b89b5cfaba6639976dc87ff2fec6d58faec662063367e2c229c520fe71072417"
  },
  "kernelspec": {
   "display_name": "Python 3.10.1 64-bit",
   "language": "python",
   "name": "python3"
  },
  "language_info": {
   "codemirror_mode": {
    "name": "ipython",
    "version": 3
   },
   "file_extension": ".py",
   "mimetype": "text/x-python",
   "name": "python",
   "nbconvert_exporter": "python",
   "pygments_lexer": "ipython3",
   "version": "3.10.10"
  },
  "orig_nbformat": 4
 },
 "nbformat": 4,
 "nbformat_minor": 2
}
